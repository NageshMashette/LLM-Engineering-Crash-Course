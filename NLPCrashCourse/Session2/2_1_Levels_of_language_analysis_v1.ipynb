{
  "nbformat": 4,
  "nbformat_minor": 0,
  "metadata": {
    "colab": {
      "provenance": []
    },
    "kernelspec": {
      "name": "python3",
      "display_name": "Python 3"
    },
    "language_info": {
      "name": "python"
    }
  },
  "cells": [
    {
      "cell_type": "markdown",
      "source": [
        "Natural Language Processing (NLP) delves into the fascinating world of understanding and manipulating human language. To truly grasp its meaning, NLP breaks down language into different levels of analysis, each focusing on a specific aspect. Here's an explanation of the four key levels:\n",
        "\n",
        "### **2.1 Morphology : The Microscopic View of Words**\n",
        "\n",
        "- Imagine language as a beautiful mosaic. Morphology deals with the smallest, most intricate pieces: morphemes.\n",
        "\n",
        "![](https://static.javatpoint.com/definition/images/morphology-definition2.png)\n",
        "- These are the smallest units of meaning in a language, akin to the tiny tiles forming the mosaic picture. Examples include prefixes (\"un-\"), suffixes (\"-ly\"), and root words (\"happy\"). By understanding how morphemes combine and interact, we can analyze word structure and derivation."
      ],
      "metadata": {
        "id": "zDgBTRX-VIpq"
      }
    },
    {
      "cell_type": "markdown",
      "source": [
        "### 1.NLTK"
      ],
      "metadata": {
        "id": "eLnOmfFNYYxE"
      }
    },
    {
      "cell_type": "code",
      "execution_count": 2,
      "metadata": {
        "colab": {
          "base_uri": "https://localhost:8080/"
        },
        "id": "QbNeklXNVDKh",
        "outputId": "1b7382e4-38c3-4c67-d8cf-0e1a7cdd55dc"
      },
      "outputs": [
        {
          "output_type": "stream",
          "name": "stdout",
          "text": [
            "Morphology Analysis: ['analyz', 'morpholog', 'is', 'import', 'for', 'understand', 'languag', 'structur', '.']\n"
          ]
        },
        {
          "output_type": "stream",
          "name": "stderr",
          "text": [
            "[nltk_data] Downloading package punkt to /root/nltk_data...\n",
            "[nltk_data]   Package punkt is already up-to-date!\n"
          ]
        }
      ],
      "source": [
        "import nltk\n",
        "from nltk.tokenize import word_tokenize\n",
        "from nltk.stem import PorterStemmer\n",
        "\n",
        "nltk.download('punkt')\n",
        "\n",
        "def morphology_analysis(text):\n",
        "    words = word_tokenize(text)\n",
        "    stemmer = PorterStemmer()\n",
        "    stems = [stemmer.stem(word) for word in words]\n",
        "    return stems\n",
        "\n",
        "text = \"Analyzing morphology is important for understanding language structure.\"\n",
        "morphology_result = morphology_analysis(text)\n",
        "print(\"Morphology Analysis:\", morphology_result)"
      ]
    },
    {
      "cell_type": "markdown",
      "source": [
        "### 2.Spacy"
      ],
      "metadata": {
        "id": "LbK7Frj4Yb9F"
      }
    },
    {
      "cell_type": "code",
      "source": [
        "import spacy\n",
        "\n",
        "def morphology_analysis_spacy(text):\n",
        "    nlp = spacy.load(\"en_core_web_sm\")\n",
        "    doc = nlp(text)\n",
        "    lemmas = [token.lemma_ for token in doc]\n",
        "    return lemmas\n",
        "\n",
        "text = \"Analyzing morphology is important for understanding language structure.\"\n",
        "morphology_result_spacy = morphology_analysis_spacy(text)\n",
        "print(\"Morphology Analysis with spaCy:\", morphology_result_spacy)"
      ],
      "metadata": {
        "colab": {
          "base_uri": "https://localhost:8080/"
        },
        "id": "46kb5GM9Yeo4",
        "outputId": "4cd927bd-56f5-464d-d1d6-7821bb1013b3"
      },
      "execution_count": null,
      "outputs": [
        {
          "output_type": "stream",
          "name": "stdout",
          "text": [
            "Morphology Analysis with spaCy: ['analyze', 'morphology', 'be', 'important', 'for', 'understand', 'language', 'structure', '.']\n"
          ]
        }
      ]
    },
    {
      "cell_type": "markdown",
      "source": [
        "### **2.2  Syntax: The Sentence Architect**\n",
        "\n",
        "![](https://www.researchgate.net/publication/290432897/figure/fig4/AS:322609892872195@1453927600608/Diagram-illustrates-the-syntactic-analysis-of-the-sentence-The-gallbladder-is-surgically.png)  \n",
        "Moving up a level,\n",
        "- **Syntax** focuses on how morphemes come together to form sentences.\n",
        "- It's like the grammar rules that govern the order and arrangement of words to create grammatically correct and meaningful structures.\n",
        "- **Syntax** analyzes the relationships between words, identifying things like subjects, verbs, objects, and phrases. Understanding syntax allows us to parse sentences and their grammatical roles."
      ],
      "metadata": {
        "id": "clbnAiJeXaqd"
      }
    },
    {
      "cell_type": "markdown",
      "source": [
        "### 1.NLTK"
      ],
      "metadata": {
        "id": "mbJMWqr7Yk52"
      }
    },
    {
      "cell_type": "code",
      "source": [
        "import nltk\n",
        "from nltk.tokenize import word_tokenize\n",
        "from nltk import pos_tag\n",
        "\n",
        "nltk.download('punkt')\n",
        "nltk.download('averaged_perceptron_tagger')\n",
        "\n",
        "def syntax_analysis(text):\n",
        "    words = word_tokenize(text)\n",
        "    pos_tags = pos_tag(words)\n",
        "    return pos_tags\n",
        "\n",
        "text = \"Syntax analysis helps in understanding sentence structure.\"\n",
        "syntax_result = syntax_analysis(text)\n",
        "print(\"Syntax Analysis:\", syntax_result)"
      ],
      "metadata": {
        "colab": {
          "base_uri": "https://localhost:8080/"
        },
        "id": "XN-kmWk-XQCo",
        "outputId": "fbb2afc0-16b5-4477-d4a8-f97c07277f69"
      },
      "execution_count": null,
      "outputs": [
        {
          "output_type": "stream",
          "name": "stderr",
          "text": [
            "[nltk_data] Downloading package punkt to /root/nltk_data...\n",
            "[nltk_data]   Package punkt is already up-to-date!\n",
            "[nltk_data] Downloading package averaged_perceptron_tagger to\n",
            "[nltk_data]     /root/nltk_data...\n",
            "[nltk_data]   Unzipping taggers/averaged_perceptron_tagger.zip.\n"
          ]
        },
        {
          "output_type": "stream",
          "name": "stdout",
          "text": [
            "Syntax Analysis: [('Syntax', 'JJ'), ('analysis', 'NN'), ('helps', 'VBZ'), ('in', 'IN'), ('understanding', 'VBG'), ('sentence', 'NN'), ('structure', 'NN'), ('.', '.')]\n"
          ]
        }
      ]
    },
    {
      "cell_type": "markdown",
      "source": [
        "### 2.Spacy"
      ],
      "metadata": {
        "id": "LYfSPYDvYmad"
      }
    },
    {
      "cell_type": "code",
      "source": [
        "import spacy\n",
        "from spacy import displacy\n",
        "from IPython.display import SVG, display\n",
        "\n",
        "def syntax_analysis_spacy(text):\n",
        "    nlp = spacy.load(\"en_core_web_sm\")\n",
        "    doc = nlp(text)\n",
        "    pos_tags = [(token.text, token.pos_) for token in doc]\n",
        "    return doc, pos_tags\n",
        "\n",
        "text = \"Syntax analysis helps in understanding sentence structure.\"\n",
        "doc, syntax_result_spacy = syntax_analysis_spacy(text)\n",
        "\n",
        "# Render the syntax tree directly in the Colab notebook\n",
        "svg_code = displacy.render(doc, style=\"dep\", options={'distance': 100})\n",
        "display(SVG(data=svg_code))"
      ],
      "metadata": {
        "colab": {
          "base_uri": "https://localhost:8080/",
          "height": 259
        },
        "id": "NpzqAWqLYPUf",
        "outputId": "9751735a-5f2d-4bba-d788-63fd78aec360"
      },
      "execution_count": 4,
      "outputs": [
        {
          "output_type": "display_data",
          "data": {
            "text/plain": [
              "<IPython.core.display.SVG object>"
            ],
            "image/svg+xml": "<svg xmlns=\"http://www.w3.org/2000/svg\" xmlns:xlink=\"http://www.w3.org/1999/xlink\" xml:lang=\"en\" id=\"8c2263e77c14415ebcd2386ce3cee214-0\" class=\"displacy\" width=\"750\" height=\"237.0\" direction=\"ltr\" style=\"max-width: none; height: 237.0px; color: #000000; background: #ffffff; font-family: Arial; direction: ltr\">\n<text class=\"displacy-token\" fill=\"currentColor\" text-anchor=\"middle\" y=\"147.0\">\n    <tspan class=\"displacy-word\" fill=\"currentColor\" x=\"50\">Syntax</tspan>\n    <tspan class=\"displacy-tag\" dy=\"2em\" fill=\"currentColor\" x=\"50\">PROPN</tspan>\n</text>\n\n<text class=\"displacy-token\" fill=\"currentColor\" text-anchor=\"middle\" y=\"147.0\">\n    <tspan class=\"displacy-word\" fill=\"currentColor\" x=\"150\">analysis</tspan>\n    <tspan class=\"displacy-tag\" dy=\"2em\" fill=\"currentColor\" x=\"150\">NOUN</tspan>\n</text>\n\n<text class=\"displacy-token\" fill=\"currentColor\" text-anchor=\"middle\" y=\"147.0\">\n    <tspan class=\"displacy-word\" fill=\"currentColor\" x=\"250\">helps</tspan>\n    <tspan class=\"displacy-tag\" dy=\"2em\" fill=\"currentColor\" x=\"250\">VERB</tspan>\n</text>\n\n<text class=\"displacy-token\" fill=\"currentColor\" text-anchor=\"middle\" y=\"147.0\">\n    <tspan class=\"displacy-word\" fill=\"currentColor\" x=\"350\">in</tspan>\n    <tspan class=\"displacy-tag\" dy=\"2em\" fill=\"currentColor\" x=\"350\">ADP</tspan>\n</text>\n\n<text class=\"displacy-token\" fill=\"currentColor\" text-anchor=\"middle\" y=\"147.0\">\n    <tspan class=\"displacy-word\" fill=\"currentColor\" x=\"450\">understanding</tspan>\n    <tspan class=\"displacy-tag\" dy=\"2em\" fill=\"currentColor\" x=\"450\">VERB</tspan>\n</text>\n\n<text class=\"displacy-token\" fill=\"currentColor\" text-anchor=\"middle\" y=\"147.0\">\n    <tspan class=\"displacy-word\" fill=\"currentColor\" x=\"550\">sentence</tspan>\n    <tspan class=\"displacy-tag\" dy=\"2em\" fill=\"currentColor\" x=\"550\">NOUN</tspan>\n</text>\n\n<text class=\"displacy-token\" fill=\"currentColor\" text-anchor=\"middle\" y=\"147.0\">\n    <tspan class=\"displacy-word\" fill=\"currentColor\" x=\"650\">structure.</tspan>\n    <tspan class=\"displacy-tag\" dy=\"2em\" fill=\"currentColor\" x=\"650\">NOUN</tspan>\n</text>\n\n<g class=\"displacy-arrow\">\n    <path class=\"displacy-arc\" id=\"arrow-8c2263e77c14415ebcd2386ce3cee214-0-0\" stroke-width=\"2px\" d=\"M70,102.0 C70,52.0 145.0,52.0 145.0,102.0\" fill=\"none\" stroke=\"currentColor\"/>\n    <text dy=\"1.25em\" style=\"font-size: 0.8em; letter-spacing: 1px\">\n        <textPath xlink:href=\"#arrow-8c2263e77c14415ebcd2386ce3cee214-0-0\" class=\"displacy-label\" startOffset=\"50%\" side=\"left\" fill=\"currentColor\" text-anchor=\"middle\">compound</textPath>\n    </text>\n    <path class=\"displacy-arrowhead\" d=\"M70,104.0 L62,92.0 78,92.0\" fill=\"currentColor\"/>\n</g>\n\n<g class=\"displacy-arrow\">\n    <path class=\"displacy-arc\" id=\"arrow-8c2263e77c14415ebcd2386ce3cee214-0-1\" stroke-width=\"2px\" d=\"M170,102.0 C170,52.0 245.0,52.0 245.0,102.0\" fill=\"none\" stroke=\"currentColor\"/>\n    <text dy=\"1.25em\" style=\"font-size: 0.8em; letter-spacing: 1px\">\n        <textPath xlink:href=\"#arrow-8c2263e77c14415ebcd2386ce3cee214-0-1\" class=\"displacy-label\" startOffset=\"50%\" side=\"left\" fill=\"currentColor\" text-anchor=\"middle\">nsubj</textPath>\n    </text>\n    <path class=\"displacy-arrowhead\" d=\"M170,104.0 L162,92.0 178,92.0\" fill=\"currentColor\"/>\n</g>\n\n<g class=\"displacy-arrow\">\n    <path class=\"displacy-arc\" id=\"arrow-8c2263e77c14415ebcd2386ce3cee214-0-2\" stroke-width=\"2px\" d=\"M270,102.0 C270,52.0 345.0,52.0 345.0,102.0\" fill=\"none\" stroke=\"currentColor\"/>\n    <text dy=\"1.25em\" style=\"font-size: 0.8em; letter-spacing: 1px\">\n        <textPath xlink:href=\"#arrow-8c2263e77c14415ebcd2386ce3cee214-0-2\" class=\"displacy-label\" startOffset=\"50%\" side=\"left\" fill=\"currentColor\" text-anchor=\"middle\">prep</textPath>\n    </text>\n    <path class=\"displacy-arrowhead\" d=\"M345.0,104.0 L353.0,92.0 337.0,92.0\" fill=\"currentColor\"/>\n</g>\n\n<g class=\"displacy-arrow\">\n    <path class=\"displacy-arc\" id=\"arrow-8c2263e77c14415ebcd2386ce3cee214-0-3\" stroke-width=\"2px\" d=\"M370,102.0 C370,52.0 445.0,52.0 445.0,102.0\" fill=\"none\" stroke=\"currentColor\"/>\n    <text dy=\"1.25em\" style=\"font-size: 0.8em; letter-spacing: 1px\">\n        <textPath xlink:href=\"#arrow-8c2263e77c14415ebcd2386ce3cee214-0-3\" class=\"displacy-label\" startOffset=\"50%\" side=\"left\" fill=\"currentColor\" text-anchor=\"middle\">pcomp</textPath>\n    </text>\n    <path class=\"displacy-arrowhead\" d=\"M445.0,104.0 L453.0,92.0 437.0,92.0\" fill=\"currentColor\"/>\n</g>\n\n<g class=\"displacy-arrow\">\n    <path class=\"displacy-arc\" id=\"arrow-8c2263e77c14415ebcd2386ce3cee214-0-4\" stroke-width=\"2px\" d=\"M570,102.0 C570,52.0 645.0,52.0 645.0,102.0\" fill=\"none\" stroke=\"currentColor\"/>\n    <text dy=\"1.25em\" style=\"font-size: 0.8em; letter-spacing: 1px\">\n        <textPath xlink:href=\"#arrow-8c2263e77c14415ebcd2386ce3cee214-0-4\" class=\"displacy-label\" startOffset=\"50%\" side=\"left\" fill=\"currentColor\" text-anchor=\"middle\">compound</textPath>\n    </text>\n    <path class=\"displacy-arrowhead\" d=\"M570,104.0 L562,92.0 578,92.0\" fill=\"currentColor\"/>\n</g>\n\n<g class=\"displacy-arrow\">\n    <path class=\"displacy-arc\" id=\"arrow-8c2263e77c14415ebcd2386ce3cee214-0-5\" stroke-width=\"2px\" d=\"M470,102.0 C470,2.0 650.0,2.0 650.0,102.0\" fill=\"none\" stroke=\"currentColor\"/>\n    <text dy=\"1.25em\" style=\"font-size: 0.8em; letter-spacing: 1px\">\n        <textPath xlink:href=\"#arrow-8c2263e77c14415ebcd2386ce3cee214-0-5\" class=\"displacy-label\" startOffset=\"50%\" side=\"left\" fill=\"currentColor\" text-anchor=\"middle\">dobj</textPath>\n    </text>\n    <path class=\"displacy-arrowhead\" d=\"M650.0,104.0 L658.0,92.0 642.0,92.0\" fill=\"currentColor\"/>\n</g>\n</svg>"
          },
          "metadata": {}
        }
      ]
    },
    {
      "cell_type": "markdown",
      "source": [
        "### **3. Semantics: Meaning Takes Center Stage**\n",
        "\n",
        "Now, we dive into the heart of understanding: meaning. Semantics explores the meaning of words, phrases, and sentences and how those meanings combine to create the overall message. It deals with things like synonymy (words with similar meaning), antonymy (opposites), and the various interpretations a sentence can have depending on context. Mastering semantics enables NLP tasks like sentiment analysis, text summarization, and question answering."
      ],
      "metadata": {
        "id": "Zr6CWm85acyk"
      }
    },
    {
      "cell_type": "markdown",
      "source": [
        "### 1.NLTK"
      ],
      "metadata": {
        "id": "ySFU6gXXc2R1"
      }
    },
    {
      "cell_type": "code",
      "source": [
        "import nltk\n",
        "from nltk.corpus import wordnet\n",
        "\n",
        "nltk.download('wordnet')\n",
        "\n",
        "def semantics_analysis(word):\n",
        "    synsets = wordnet.synsets(word)\n",
        "    meanings = [syn.definition() for syn in synsets]\n",
        "    return meanings\n",
        "\n",
        "word = \"Apple\"\n",
        "semantics_result = semantics_analysis(word)\n",
        "print(\"Semantic Meaning of Word:\", word)\n",
        "print(\"--------------------------------\")\n",
        "for i in semantics_result:\n",
        "  print(\"Semantics Analysis:\", i)"
      ],
      "metadata": {
        "colab": {
          "base_uri": "https://localhost:8080/"
        },
        "id": "P2nXkm_SZE8V",
        "outputId": "fdc81221-e6f5-4f1f-87a6-a16cd18e331a"
      },
      "execution_count": 6,
      "outputs": [
        {
          "output_type": "stream",
          "name": "stdout",
          "text": [
            "Semantic Meaning of Word: Apple\n",
            "--------------------------------\n",
            "Semantics Analysis: fruit with red or yellow or green skin and sweet to tart crisp whitish flesh\n",
            "Semantics Analysis: native Eurasian tree widely cultivated in many varieties for its firm rounded edible fruits\n"
          ]
        },
        {
          "output_type": "stream",
          "name": "stderr",
          "text": [
            "[nltk_data] Downloading package wordnet to /root/nltk_data...\n",
            "[nltk_data]   Package wordnet is already up-to-date!\n"
          ]
        }
      ]
    },
    {
      "cell_type": "markdown",
      "source": [
        "### 2.Spacy"
      ],
      "metadata": {
        "id": "lOjRY1mpdGnA"
      }
    },
    {
      "cell_type": "code",
      "source": [
        "import spacy\n",
        "from nltk.corpus import wordnet\n",
        "\n",
        "# Download WordNet data\n",
        "import nltk\n",
        "nltk.download('wordnet')\n",
        "\n",
        "def semantics_analysis_spacy_wordnet(word):\n",
        "    nlp = spacy.load(\"en_core_web_sm\")\n",
        "    token = nlp(word)\n",
        "\n",
        "    # Retrieve WordNet synsets\n",
        "    synsets = wordnet.synsets(word)\n",
        "\n",
        "    # Extract definitions from WordNet synsets\n",
        "    definitions = [syn.definition() for syn in synsets]\n",
        "\n",
        "    return definitions\n",
        "\n",
        "word = \"Apple\"\n",
        "semantics_result_spacy_wordnet = semantics_analysis_spacy_wordnet(word)\n",
        "# semantics_result = semantics_analysis(word)\n",
        "print(\"Semantic Meaning of Word:\", word)\n",
        "print(\"--------------------------------\")\n",
        "for i in semantics_result:\n",
        "  print(\"Semantics Analysis:\", i)"
      ],
      "metadata": {
        "colab": {
          "base_uri": "https://localhost:8080/"
        },
        "id": "Le3pFynHc3id",
        "outputId": "50959b09-33e0-412a-c75d-27d740815b6d"
      },
      "execution_count": 7,
      "outputs": [
        {
          "output_type": "stream",
          "name": "stderr",
          "text": [
            "[nltk_data] Downloading package wordnet to /root/nltk_data...\n",
            "[nltk_data]   Package wordnet is already up-to-date!\n"
          ]
        },
        {
          "output_type": "stream",
          "name": "stdout",
          "text": [
            "Semantic Meaning of Word: Apple\n",
            "--------------------------------\n",
            "Semantics Analysis: fruit with red or yellow or green skin and sweet to tart crisp whitish flesh\n",
            "Semantics Analysis: native Eurasian tree widely cultivated in many varieties for its firm rounded edible fruits\n"
          ]
        }
      ]
    },
    {
      "cell_type": "markdown",
      "source": [
        "### NER - Name Entity Recognition"
      ],
      "metadata": {
        "id": "bUh9arNQBVTd"
      }
    },
    {
      "cell_type": "code",
      "source": [
        "import spacy\n",
        "from spacy import displacy\n",
        "\n",
        "# Load the English language model\n",
        "nlp = spacy.load(\"en_core_web_sm\")\n",
        "\n",
        "# Sample text for NER\n",
        "text = \"Apple is looking at buying U.K. startup for $1 billion\"\n",
        "\n",
        "# Process the text with spaCy NLP pipeline\n",
        "doc = nlp(text)\n",
        "\n",
        "# Visualize named entities\n",
        "displacy.render(doc, style=\"ent\", jupyter=True)"
      ],
      "metadata": {
        "id": "RD83R5C9BU2c",
        "outputId": "93649ebe-dbb5-4d08-cd14-e77d0daa137a",
        "colab": {
          "base_uri": "https://localhost:8080/",
          "height": 52
        }
      },
      "execution_count": 13,
      "outputs": [
        {
          "output_type": "display_data",
          "data": {
            "text/plain": [
              "<IPython.core.display.HTML object>"
            ],
            "text/html": [
              "<span class=\"tex2jax_ignore\"><div class=\"entities\" style=\"line-height: 2.5; direction: ltr\">\n",
              "<mark class=\"entity\" style=\"background: #7aecec; padding: 0.45em 0.6em; margin: 0 0.25em; line-height: 1; border-radius: 0.35em;\">\n",
              "    Apple\n",
              "    <span style=\"font-size: 0.8em; font-weight: bold; line-height: 1; border-radius: 0.35em; vertical-align: middle; margin-left: 0.5rem\">ORG</span>\n",
              "</mark>\n",
              " is looking at buying \n",
              "<mark class=\"entity\" style=\"background: #feca74; padding: 0.45em 0.6em; margin: 0 0.25em; line-height: 1; border-radius: 0.35em;\">\n",
              "    U.K.\n",
              "    <span style=\"font-size: 0.8em; font-weight: bold; line-height: 1; border-radius: 0.35em; vertical-align: middle; margin-left: 0.5rem\">GPE</span>\n",
              "</mark>\n",
              " startup for \n",
              "<mark class=\"entity\" style=\"background: #e4e7d2; padding: 0.45em 0.6em; margin: 0 0.25em; line-height: 1; border-radius: 0.35em;\">\n",
              "    $1 billion\n",
              "    <span style=\"font-size: 0.8em; font-weight: bold; line-height: 1; border-radius: 0.35em; vertical-align: middle; margin-left: 0.5rem\">MONEY</span>\n",
              "</mark>\n",
              "</div></span>"
            ]
          },
          "metadata": {}
        }
      ]
    },
    {
      "cell_type": "markdown",
      "source": [
        "### Word Sense Disambiguation (WSD)\n",
        "\n",
        "Word Sense Disambiguation (WSD) is a challenging task in natural language processing that aims to determine the meaning of a word based on its context. Here's a simple Python code example using the NLTK library for Word Sense Disambiguation:"
      ],
      "metadata": {
        "id": "vE-OhGD-CCak"
      }
    },
    {
      "cell_type": "code",
      "source": [
        "import nltk\n",
        "from nltk.corpus import wordnet\n",
        "from nltk.tokenize import word_tokenize\n",
        "\n",
        "# Download WordNet and punkt tokenizer\n",
        "nltk.download('wordnet')\n",
        "nltk.download('punkt')\n",
        "\n",
        "# Define a function for word sense disambiguation\n",
        "def word_sense_disambiguation(word, sentence):\n",
        "    # Tokenize the sentence\n",
        "    tokens = word_tokenize(sentence)\n",
        "\n",
        "    # Initialize the WordNet lemmatizer\n",
        "    lemmatizer = nltk.stem.WordNetLemmatizer()\n",
        "\n",
        "    # Get the most likely lemma for the word\n",
        "    word_lemma = lemmatizer.lemmatize(word)\n",
        "\n",
        "    # Initialize a list to store the definitions of the word\n",
        "    definitions = []\n",
        "\n",
        "    # Iterate through the synsets of the word\n",
        "    for synset in wordnet.synsets(word_lemma):\n",
        "        # Add the definition of the synset to the list\n",
        "        definitions.append(synset.definition())\n",
        "\n",
        "    return definitions\n",
        "\n",
        "# Example sentence\n",
        "sentence = \"I went to the bank to deposit some money.\"\n",
        "\n",
        "# Word to disambiguate\n",
        "word = \"bank\"\n",
        "\n",
        "# Perform Word Sense Disambiguation\n",
        "definitions = word_sense_disambiguation(word, sentence)\n",
        "\n",
        "# Print the definitions\n",
        "print(\"Definitions of '{}' in the context of '{}':\".format(word, sentence))\n",
        "for i, definition in enumerate(definitions):\n",
        "    print(\"Sense {}: {}\".format(i+1, definition))"
      ],
      "metadata": {
        "id": "UKvmuIxuCGAw",
        "outputId": "b5845faf-5668-4314-cddb-fbaa482ab627",
        "colab": {
          "base_uri": "https://localhost:8080/"
        }
      },
      "execution_count": 18,
      "outputs": [
        {
          "output_type": "stream",
          "name": "stdout",
          "text": [
            "Definitions of 'bank' in the context of 'I went to the bank to deposit some money.':\n",
            "Sense 1: sloping land (especially the slope beside a body of water)\n",
            "Sense 2: a financial institution that accepts deposits and channels the money into lending activities\n",
            "Sense 3: a long ridge or pile\n",
            "Sense 4: an arrangement of similar objects in a row or in tiers\n",
            "Sense 5: a supply or stock held in reserve for future use (especially in emergencies)\n",
            "Sense 6: the funds held by a gambling house or the dealer in some gambling games\n",
            "Sense 7: a slope in the turn of a road or track; the outside is higher than the inside in order to reduce the effects of centrifugal force\n",
            "Sense 8: a container (usually with a slot in the top) for keeping money at home\n",
            "Sense 9: a building in which the business of banking transacted\n",
            "Sense 10: a flight maneuver; aircraft tips laterally about its longitudinal axis (especially in turning)\n",
            "Sense 11: tip laterally\n",
            "Sense 12: enclose with a bank\n",
            "Sense 13: do business with a bank or keep an account at a bank\n",
            "Sense 14: act as the banker in a game or in gambling\n",
            "Sense 15: be in the banking business\n",
            "Sense 16: put into a bank account\n",
            "Sense 17: cover with ashes so to control the rate of burning\n",
            "Sense 18: have confidence or faith in\n"
          ]
        },
        {
          "output_type": "stream",
          "name": "stderr",
          "text": [
            "[nltk_data] Downloading package wordnet to /root/nltk_data...\n",
            "[nltk_data]   Package wordnet is already up-to-date!\n",
            "[nltk_data] Downloading package punkt to /root/nltk_data...\n",
            "[nltk_data]   Package punkt is already up-to-date!\n"
          ]
        }
      ]
    },
    {
      "cell_type": "markdown",
      "source": [
        "### 4. Pragmatics: Context is King\n",
        "\n",
        "![](https://miro.medium.com/v2/resize:fit:653/1*X6iv-oqOs-G2je-LQxzprA.png)\n",
        "- Finally, pragmatics considers the context in which language is used. It helps us understand the speaker's intentions, the unspoken rules of communication, and how the environment affects meaning.\n",
        "- For example, sarcasm or humor often requires pragmatic understanding to interpret correctly. Analyzing pragmatics allows NLP systems to handle ambiguity, understand non-literal language, and adapt their responses based on context."
      ],
      "metadata": {
        "id": "jroitLS-kQvU"
      }
    },
    {
      "cell_type": "code",
      "source": [
        "import nltk\n",
        "from nltk.tokenize import word_tokenize\n",
        "\n",
        "nltk.download('punkt')\n",
        "\n",
        "def pragmatics_analysis_nltk(context):\n",
        "    words = word_tokenize(context)\n",
        "\n",
        "    if \"urgent\" in words:\n",
        "        return \"This needs immediate attention.\"\n",
        "    else:\n",
        "        return \"Please review at your earliest convenience.\"\n",
        "\n",
        "context = \"The document requires your attention; it's urgent.\"\n",
        "pragmatics_result_nltk = pragmatics_analysis_nltk(context)\n",
        "print(\"Pragmatics Analysis with NLTK:\", pragmatics_result_nltk)"
      ],
      "metadata": {
        "colab": {
          "base_uri": "https://localhost:8080/"
        },
        "id": "765nuRqheWaz",
        "outputId": "8e57e4ff-cbe7-4c68-aa35-c147041058e4"
      },
      "execution_count": 10,
      "outputs": [
        {
          "output_type": "stream",
          "name": "stdout",
          "text": [
            "Pragmatics Analysis with NLTK: This needs immediate attention.\n"
          ]
        },
        {
          "output_type": "stream",
          "name": "stderr",
          "text": [
            "[nltk_data] Downloading package punkt to /root/nltk_data...\n",
            "[nltk_data]   Package punkt is already up-to-date!\n"
          ]
        }
      ]
    },
    {
      "cell_type": "code",
      "source": [
        "def pragmatics_analysis_spacy(context):\n",
        "    if \"urgent\" in context:\n",
        "        return \"This needs immediate attention.\"\n",
        "    else:\n",
        "        return \"Please review at your earliest convenience.\"\n",
        "\n",
        "context = \"The document requires your attention; it's urgent.\"\n",
        "pragmatics_result_spacy = pragmatics_analysis_spacy(context)\n",
        "print(\"Pragmatics Analysis with spaCy:\", pragmatics_result_spacy)"
      ],
      "metadata": {
        "colab": {
          "base_uri": "https://localhost:8080/"
        },
        "id": "aRufBnvQkzPh",
        "outputId": "78d99651-53bd-4218-8a8e-046411add2e7"
      },
      "execution_count": 11,
      "outputs": [
        {
          "output_type": "stream",
          "name": "stdout",
          "text": [
            "Pragmatics Analysis with spaCy: This needs immediate attention.\n"
          ]
        }
      ]
    },
    {
      "cell_type": "markdown",
      "source": [
        "More Learning References and Excersize: https://towardsai.net/p/nlp/natural-language-processing-nlp-with-python-tutorial-for-beginners-1f54e610a1a0"
      ],
      "metadata": {
        "id": "mKVoJkr4l9gK"
      }
    }
  ]
}